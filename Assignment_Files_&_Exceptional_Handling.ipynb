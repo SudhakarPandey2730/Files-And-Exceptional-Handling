{
  "nbformat": 4,
  "nbformat_minor": 0,
  "metadata": {
    "colab": {
      "provenance": []
    },
    "kernelspec": {
      "name": "python3",
      "display_name": "Python 3"
    },
    "language_info": {
      "name": "python"
    }
  },
  "cells": [
    {
      "cell_type": "markdown",
      "source": [
        "# **Assignment : Files & Exceptional Handling (Module 8)**"
      ],
      "metadata": {
        "id": "T65mcUTz6yGP"
      }
    },
    {
      "cell_type": "markdown",
      "source": [
        "###**Question 1: Discuss the scenarios where multithreading is preferable to multiprocessing and scenarios where multiprocessing is a better choice.**###"
      ],
      "metadata": {
        "id": "kb1UoVvP68pG"
      }
    },
    {
      "cell_type": "markdown",
      "source": [
        "## Solution :"
      ],
      "metadata": {
        "id": "Nc2m5KiG7V1E"
      }
    },
    {
      "cell_type": "markdown",
      "source": [
        "### *Multithreading is Preferable under below conditions:*\n",
        "\n",
        "Multithreading is typically better suited for I/O-bound tasks, where tasks spend significant time waiting for external resources, like file I/O or network requests, rather than performing heavy computations.\n",
        "\n",
        "This is because threads share the same memory space and can easily communicate with each other.\n",
        "\n",
        "### Ideal Scenarios for Multithreading:\n",
        "\n",
        "I/O-Bound Tasks :\n",
        "\n",
        "When tasks involve waiting for input or output operations, such as reading files, querying databases, or making network requests. Threads can remain idle while waiting for the I/O to complete and can quickly switch to another thread.\n",
        "\n",
        "\n",
        "Lightweight Tasks:\n",
        "\n",
        "When tasks are relatively lightweight and don’t require extensive CPU resources, as multithreading allows for quick context switching and lower memory overhead.\n",
        "\n",
        "Shared Memory Requirements:\n",
        "\n",
        "When tasks need to share data or variables between each other frequently, threads can be more efficient because they share the same memory space and avoid the need for inter-process communication (IPC).\n",
        "\n",
        "Limited Memory Resources:\n",
        "\n",
        "Since threads share the same memory, they typically use less memory than multiple processes. For applications with limited memory resources, multithreading can be more efficient.\n",
        "\n",
        "User Interface Applications:\n",
        "\n",
        "In applications with a graphical user interface (GUI), multithreading is useful to keep the application responsive (e.g., background tasks that don’t freeze the UI).\n",
        "\n",
        "Example:\n",
        "\n",
        "Web servers handle multiple network requests simultaneously, often using threads. Since each request may spend time waiting on a network response, threads can manage multiple requests without needing excessive CPU time."
      ],
      "metadata": {
        "id": "uWCkci0i7du7"
      }
    },
    {
      "cell_type": "markdown",
      "source": [
        "### Multiprocessing is Preferable\n",
        "Multiprocessing is generally better for CPU-bound tasks that require intensive computation. Each process runs in its own memory space, allowing for parallel execution on multiple CPU cores without the limitations of the Global Interpreter Lock (GIL) in Python.\n",
        "\n",
        "### Ideal Scenarios for Multiprocessing:\n",
        "CPU-Bound Tasks:\n",
        "\n",
        "When tasks involve heavy computation (like mathematical calculations or data processing) that can be done independently, multiprocessing can effectively use multiple CPU cores.\n",
        "\n",
        "Avoiding the GIL:\n",
        "\n",
        "In Python, the Global Interpreter Lock (GIL) prevents multiple threads from executing Python bytecode in true parallel on multiple cores. Multiprocessing bypasses the GIL since each process has its own Python interpreter instance.\n",
        "\n",
        "High Isolation Requirements:\n",
        "\n",
        "When tasks require strong isolation (e.g., separate memory spaces), multiprocessing can be more stable because each process is separate and won’t affect the others if it crashes or has memory leaks.\n",
        "\n",
        "Large or Independent Tasks:\n",
        "\n",
        "For tasks that are large and do not need to share memory frequently, multiprocessing is more efficient. Since processes don’t share memory, they communicate through IPC methods like pipes or message queues.\n",
        "\n",
        "Background Workers for Heavy Tasks:\n",
        "\n",
        "For tasks that need to run in the background but involve significant computations, like data analytics or machine learning, multiprocessing can handle these tasks effectively without impacting the main program.\n",
        "\n",
        "Example:\n",
        "\n",
        "Image processing, where large batches of images need to be processed independently (e.g., resizing, filtering) can leverage multiprocessing to run parallel processes, allowing each CPU core to process a different image simultaneously."
      ],
      "metadata": {
        "id": "C4BDwbGm94pU"
      }
    },
    {
      "cell_type": "markdown",
      "source": [
        "### **Question 2: Describe what a process pool is and how it helps in managing multiple processes efficiently.**"
      ],
      "metadata": {
        "id": "W5zzacRhzyG6"
      }
    },
    {
      "cell_type": "markdown",
      "source": [
        "## Solution :"
      ],
      "metadata": {
        "id": "NCZM08pH0kpI"
      }
    },
    {
      "cell_type": "markdown",
      "source": [
        "\n",
        "A **process pool** is a programming construct used to manage and execute multiple processes concurrently (at same time), typically when performing tasks that can benefit from parallel processing.\n",
        "\n",
        "In Python, a process pool is commonly managed through libraries like multiprocessing or concurrent.futures.\n",
        "\n",
        "A process pool allows for the creation of a fixed number of worker processes that can run tasks in parallel, balancing the workload across multiple processes without requiring the programmer to explicitly handle process creation, termination, and task distribution."
      ],
      "metadata": {
        "id": "AX3EwDtC0n2Z"
      }
    },
    {
      "cell_type": "markdown",
      "source": [
        "It helps to manage multiple processes efficiently because of following key features:"
      ],
      "metadata": {
        "id": "zF2U97NT1FOJ"
      }
    },
    {
      "cell_type": "markdown",
      "source": [
        "**Efficient Resource Management:** By limiting the number of concurrent processes, a process pool avoids the overhead and system strain that can come from creating too many processes at once. This is especially useful when tasks involve heavy computations, which can exhaust system resources quickly.\n",
        "\n",
        "**Automatic Task Distribution:** A process pool handles task distribution by assigning tasks to available worker processes automatically. This reduces the overhead of manually assigning tasks to processes and tracking their states.\n",
        "\n",
        "**Reduced Process Creation Overhead:** Creating and destroying processes repeatedly can be computationally expensive. A process pool mitigates this by reusing a set number of worker processes, which minimizes the overhead involved with repeatedly creating and terminating processes.\n",
        "\n",
        "**Simplified Parallel Execution:** Process pools abstract much of the complexity of parallel processing, allowing developers to focus on the tasks at hand rather than managing the low-level details of process lifecycles, inter-process communication, and synchronization"
      ],
      "metadata": {
        "id": "3IirSWe21SdA"
      }
    },
    {
      "cell_type": "code",
      "execution_count": 1,
      "metadata": {
        "id": "MKJVLqhp6sO0",
        "colab": {
          "base_uri": "https://localhost:8080/"
        },
        "outputId": "124a0c22-3cdb-4fb3-c554-50eacee9678b"
      },
      "outputs": [
        {
          "output_type": "stream",
          "name": "stdout",
          "text": [
            "[1, 4, 9, 16, 25]\n"
          ]
        }
      ],
      "source": [
        "# Example of Using a Process Pool in Python\n",
        "\n",
        "from multiprocessing import Pool\n",
        "\n",
        "def square(n):\n",
        "    \"\"\"\n",
        "    Computes the square of a given number.\n",
        "\n",
        "    Parameters:\n",
        "        n (int): The number to be squared.\n",
        "\n",
        "    Returns:\n",
        "        int: The square of the input number.\n",
        "    \"\"\"\n",
        "    # Calculate the square of the input number\n",
        "    return n * n\n",
        "\n",
        "if __name__ == \"__main__\":\n",
        "    numbers = [1, 2, 3, 4, 5]\n",
        "\n",
        "    # Create a process pool with 3 worker processes\n",
        "    with Pool(processes=3) as pool:\n",
        "        results = pool.map(square, numbers)\n",
        "    # Output\n",
        "    print(results)"
      ]
    },
    {
      "cell_type": "markdown",
      "source": [
        "### **Question 3: Explain what multiprocessing is and why it is used in Python programs.**"
      ],
      "metadata": {
        "id": "NYWkTlnC2bxe"
      }
    },
    {
      "cell_type": "markdown",
      "source": [
        "## Solution :"
      ],
      "metadata": {
        "id": "Svag_4aK2pS6"
      }
    },
    {
      "cell_type": "markdown",
      "source": [
        "**Multiprocessing** is a technique that allows a program to use multiple CPU cores by running several processes simultaneously.  \n",
        "\n",
        "Each process runs independently and can execute code in parallel with other processes, enabling programs to perform tasks concurrently."
      ],
      "metadata": {
        "id": "4ZPn2SDs26n5"
      }
    },
    {
      "cell_type": "markdown",
      "source": [
        "**Benifits Of Using Multiprocessing In Python:**\n",
        "\n",
        "**Overcoming the GIL** : In Python, the GIL only allows one thread to execute Python bytecode at a time within a single process. This can limit the effectiveness of multithreading, especially for CPU-bound tasks (tasks that use a lot of CPU resources). Multiprocessing bypasses this limitation by creating separate processes, each with its own interpreter and memory space, allowing true parallelism.\n",
        "\n",
        "**Parallel Execution** : Multiprocessing enables true parallelism, which is ideal for CPU-intensive tasks like data processing, scientific computing, image processing, and machine learning computations. Each process can run on a separate CPU core, distributing the workload across multiple cores and significantly speeding up execution.\n",
        "\n",
        "**Isolation Between Processes** : Unlike threads, processes have their own memory space, so they don’t share memory by default. This reduces the risk of data corruption and simplifies debugging since there’s less concern about race conditions or locks that are common in shared-memory threading models.\n",
        "\n",
        "**Scalability for Resource-Intensive Tasks** : For large datasets or complex algorithms, multiprocessing helps by dividing the workload among processes. Each process can independently perform part of the computation, making it scalable and efficient, especially on multi-core machines."
      ],
      "metadata": {
        "id": "tsBJQQzY3OYR"
      }
    },
    {
      "cell_type": "code",
      "source": [
        "# Example of Multiprocessing in Python\n",
        "\"\"\"\n",
        "Below code demonstrates creating multiple processes to perform\n",
        "a CPU-bound task (calculating the square of a number) in parallel.\n",
        "\"\"\"\n",
        "\n",
        "from multiprocessing import Process\n",
        "\n",
        "def square(number):\n",
        "    \"\"\"\n",
        "    Function to compute the square of a number.\n",
        "    \"\"\"\n",
        "    result = number * number\n",
        "    print(f\"The square of {number} is {result}\")\n",
        "\n",
        "if __name__ == \"__main__\":\n",
        "    # List of numbers to compute squares\n",
        "    numbers = [1, 2, 3, 4, 5]\n",
        "\n",
        "    # Create a list to hold the process objects\n",
        "    processes = []\n",
        "\n",
        "    # Create and start a separate process for each number\n",
        "    for number in numbers:\n",
        "        process = Process(target=square, args=(number,))\n",
        "        processes.append(process)\n",
        "        process.start()\n",
        "\n",
        "    # Wait for all processes to complete\n",
        "    for process in processes:\n",
        "        process.join()"
      ],
      "metadata": {
        "colab": {
          "base_uri": "https://localhost:8080/"
        },
        "id": "cnFueszl2Jdk",
        "outputId": "44985161-0be3-42ba-a1ac-47734b0af8c8"
      },
      "execution_count": 2,
      "outputs": [
        {
          "output_type": "stream",
          "name": "stdout",
          "text": [
            "The square of 1 is 1The square of 2 is 4\n",
            "\n",
            "The square of 3 is 9\n",
            "The square of 4 is 16The square of 5 is 25\n",
            "\n"
          ]
        }
      ]
    },
    {
      "cell_type": "markdown",
      "source": [
        "###**Question 4:  Write a Python program using multithreading where one thread adds numbers to a list, and another thread removes numbers from the list. Implement a mechanism to avoid race conditions using threading.Lock.**"
      ],
      "metadata": {
        "id": "A9PVboMo40nl"
      }
    },
    {
      "cell_type": "markdown",
      "source": [
        "## Solution :"
      ],
      "metadata": {
        "id": "-KnoHuH75Y6y"
      }
    },
    {
      "cell_type": "code",
      "source": [
        "import threading\n",
        "import time\n",
        "import random\n",
        "\n",
        "# Shared list\n",
        "shared_list = []\n",
        "\n",
        "# Lock to avoid race condition\n",
        "list_lock = threading.Lock()\n",
        "\n",
        "# Function for adding numbers to the list\n",
        "def add_numbers():\n",
        "    for i in range(10):\n",
        "        time.sleep(random.uniform(0.1, 0.5))  # Simulate work by sleeping for a random time\n",
        "        with list_lock:  # Acquire the lock before modifying the list\n",
        "            num = random.randint(1, 100)\n",
        "            shared_list.append(num)\n",
        "            print(f\"Added {num}, list now: {shared_list}\")\n",
        "\n",
        "# Function for removing numbers from the list\n",
        "def remove_numbers():\n",
        "    for i in range(10):\n",
        "        time.sleep(random.uniform(0.1, 0.5))  # Simulate work by sleeping for a random time\n",
        "        with list_lock:  # Acquire the lock before modifying the list\n",
        "            if shared_list:\n",
        "                num = shared_list.pop(0)  # Remove the first element\n",
        "                print(f\"Removed {num}, list now: {shared_list}\")\n",
        "            else:\n",
        "                print(\"List is empty, nothing to remove\")\n",
        "\n",
        "# Create threads for adding and removing numbers\n",
        "add_thread = threading.Thread(target=add_numbers)\n",
        "remove_thread = threading.Thread(target=remove_numbers)\n",
        "\n",
        "# Start the threads\n",
        "add_thread.start()\n",
        "remove_thread.start()\n",
        "\n",
        "# Wait for both threads to finish\n",
        "add_thread.join()\n",
        "remove_thread.join()\n",
        "\n",
        "print(\"Final list:\", shared_list)"
      ],
      "metadata": {
        "colab": {
          "base_uri": "https://localhost:8080/"
        },
        "id": "1vi1TsNK4PoL",
        "outputId": "7ce571b2-774b-4fe5-9990-abc0a053d8ad"
      },
      "execution_count": 3,
      "outputs": [
        {
          "output_type": "stream",
          "name": "stdout",
          "text": [
            "List is empty, nothing to remove\n",
            "Added 19, list now: [19]\n",
            "Added 1, list now: [19, 1]\n",
            "Removed 19, list now: [1]\n",
            "Added 73, list now: [1, 73]\n",
            "Removed 1, list now: [73]\n",
            "Added 55, list now: [73, 55]\n",
            "Removed 73, list now: [55]\n",
            "Added 33, list now: [55, 33]\n",
            "Removed 55, list now: [33]\n",
            "Added 79, list now: [33, 79]\n",
            "Removed 33, list now: [79]\n",
            "Added 33, list now: [79, 33]\n",
            "Removed 79, list now: [33]\n",
            "Added 31, list now: [33, 31]\n",
            "Added 2, list now: [33, 31, 2]\n",
            "Removed 33, list now: [31, 2]\n",
            "Added 91, list now: [31, 2, 91]\n",
            "Removed 31, list now: [2, 91]\n",
            "Removed 2, list now: [91]\n",
            "Final list: [91]\n"
          ]
        }
      ]
    },
    {
      "cell_type": "markdown",
      "source": [
        "###**Question 5: Describe the methods and tools available in Python for safely sharing data between threads and processes.**"
      ],
      "metadata": {
        "id": "yHJf5qBq6r5b"
      }
    },
    {
      "cell_type": "markdown",
      "source": [
        "## Solution :"
      ],
      "metadata": {
        "id": "iouinX7A65AR"
      }
    },
    {
      "cell_type": "markdown",
      "source": [
        "Python provides several methods and tools to safely share data between threads and processes, helping avoid race conditions, deadlocks, and data corruption."
      ],
      "metadata": {
        "id": "YAX8iBPz7cCV"
      }
    },
    {
      "cell_type": "markdown",
      "source": [
        "**Threads**: Use Lock, RLock, Semaphore, Condition, Event, and Queue for thread-safe access and coordination.\n",
        "\n",
        "**Processes**: Use Queue, Pipe, Value, Array, Manager, and synchronization primitives like Lock and Event from multiprocessing for safe inter-process communication and data sharing."
      ],
      "metadata": {
        "id": "iMlzIf9-7h0w"
      }
    },
    {
      "cell_type": "markdown",
      "source": [
        "Let me explain the tools and methods used to safely share data between threads and processes."
      ],
      "metadata": {
        "id": "YKruLpHu8LPS"
      }
    },
    {
      "cell_type": "markdown",
      "source": [
        "**For Threads**\n",
        "\n",
        "\n",
        "---\n",
        "\n",
        "\n",
        "**Lock (threading.Lock)**\n",
        "\n",
        "A Lock is the simplest and most commonly used mechanism for mutual exclusion, ensuring that only one thread can access a shared resource at a time."
      ],
      "metadata": {
        "id": "N665sSzg8hNZ"
      }
    },
    {
      "cell_type": "code",
      "source": [
        "# Example\n",
        "\n",
        "import threading\n",
        "\n",
        "lock = threading.Lock()\n",
        "shared_resource = 0\n",
        "\n",
        "def increment():\n",
        "    global shared_resource\n",
        "    for _ in range(1000):\n",
        "        with lock:\n",
        "            shared_resource += 1\n",
        "\n",
        "threads = [threading.Thread(target=increment) for _ in range(2)]\n",
        "for t in threads: t.start()\n",
        "for t in threads: t.join()\n",
        "\n",
        "print(\"Final value:\", shared_resource)"
      ],
      "metadata": {
        "id": "CQN0Ows96mBb",
        "colab": {
          "base_uri": "https://localhost:8080/"
        },
        "outputId": "42e087e1-9d75-4d61-82e0-a11f788a17da"
      },
      "execution_count": 4,
      "outputs": [
        {
          "output_type": "stream",
          "name": "stdout",
          "text": [
            "Final value: 2000\n"
          ]
        }
      ]
    },
    {
      "cell_type": "markdown",
      "source": [
        "**RLock (threading.RLock)**\n",
        "\n",
        "An RLock (reentrant lock) is similar to a Lock, but it allows the same thread to acquire it multiple times without blocking itself. This is useful when a thread needs to access a shared resource recursively."
      ],
      "metadata": {
        "id": "suR6N5Cx9OTL"
      }
    },
    {
      "cell_type": "code",
      "source": [
        "# Example\n",
        "\n",
        "import threading\n",
        "\n",
        "rlock = threading.RLock()\n",
        "shared_resource = 0\n",
        "\n",
        "def increment():\n",
        "    global shared_resource\n",
        "    for _ in range(1000):\n",
        "        with rlock:\n",
        "            with rlock:  # Can acquire RLock again\n",
        "                shared_resource += 1\n",
        "\n",
        "threads = [threading.Thread(target=increment) for _ in range(2)]\n",
        "for t in threads: t.start()\n",
        "for t in threads: t.join()\n",
        "\n",
        "print(\"Final value:\", shared_resource)"
      ],
      "metadata": {
        "id": "cNfDgZs38_fM",
        "colab": {
          "base_uri": "https://localhost:8080/"
        },
        "outputId": "855b12ab-128c-4177-d982-17065cada16b"
      },
      "execution_count": 5,
      "outputs": [
        {
          "output_type": "stream",
          "name": "stdout",
          "text": [
            "Final value: 2000\n"
          ]
        }
      ]
    },
    {
      "cell_type": "markdown",
      "source": [
        "**Semaphore (threading.Semaphore)**\n",
        "\n",
        "A Semaphore limits access to a shared resource to a fixed number of threads.\n",
        "\n",
        "For instance, a semaphore with a value of 3 allows up to three threads to access the resource simultaneously."
      ],
      "metadata": {
        "id": "onWev95x9ekk"
      }
    },
    {
      "cell_type": "code",
      "source": [
        "# Example\n",
        "\n",
        "import threading\n",
        "import time\n",
        "\n",
        "semaphore = threading.Semaphore(2)\n",
        "\n",
        "def access_resource():\n",
        "    with semaphore:\n",
        "        print(f\"{threading.current_thread().name} accessing\")\n",
        "        time.sleep(1)\n",
        "\n",
        "threads = [threading.Thread(target=access_resource) for _ in range(5)]\n",
        "for t in threads: t.start()\n",
        "for t in threads: t.join()"
      ],
      "metadata": {
        "id": "nh88fakh9Zti",
        "colab": {
          "base_uri": "https://localhost:8080/"
        },
        "outputId": "2490925e-a254-4471-b9a4-0595ab82e7c5"
      },
      "execution_count": 6,
      "outputs": [
        {
          "output_type": "stream",
          "name": "stdout",
          "text": [
            "Thread-19 (access_resource) accessing\n",
            "Thread-20 (access_resource) accessing\n",
            "Thread-21 (access_resource) accessing\n",
            "Thread-22 (access_resource) accessing\n",
            "Thread-23 (access_resource) accessing\n"
          ]
        }
      ]
    },
    {
      "cell_type": "markdown",
      "source": [
        "**Condition (threading.Condition)**\n",
        "\n",
        "A Condition is used to coordinate access to shared resources, especially when one thread needs to wait for a specific condition before proceeding."
      ],
      "metadata": {
        "id": "-VycdEei943h"
      }
    },
    {
      "cell_type": "code",
      "source": [
        "# Example\n",
        "\n",
        "import threading\n",
        "\n",
        "condition = threading.Condition()\n",
        "shared_list = []\n",
        "\n",
        "def consumer():\n",
        "    with condition:\n",
        "        condition.wait()\n",
        "        print(\"Consumed:\", shared_list.pop())\n",
        "\n",
        "def producer():\n",
        "    with condition:\n",
        "        shared_list.append(42)\n",
        "        print(\"Produced:\", shared_list[0])\n",
        "        condition.notify()\n",
        "\n",
        "t1 = threading.Thread(target=consumer)\n",
        "t2 = threading.Thread(target=producer)\n",
        "\n",
        "t1.start()\n",
        "t2.start()\n",
        "t1.join()\n",
        "t2.join()"
      ],
      "metadata": {
        "colab": {
          "base_uri": "https://localhost:8080/"
        },
        "id": "WWw31U6r_B4i",
        "outputId": "a4c1cd97-ac81-4878-d2ac-c64a0fd76ffd"
      },
      "execution_count": 7,
      "outputs": [
        {
          "output_type": "stream",
          "name": "stdout",
          "text": [
            "Produced: 42\n",
            "Consumed: 42\n"
          ]
        }
      ]
    },
    {
      "cell_type": "markdown",
      "source": [
        "**Event (threading.Event)**\n",
        "\n",
        "An Event is a simple mechanism for signaling between threads.\n",
        "\n",
        "One thread can wait for an event to be set, while another thread can set it, indicating that an action should proceed."
      ],
      "metadata": {
        "id": "ilKjUxkP_O3j"
      }
    },
    {
      "cell_type": "code",
      "source": [
        "# Example\n",
        "\n",
        "import threading\n",
        "import time\n",
        "\n",
        "event = threading.Event()\n",
        "\n",
        "def wait_for_event():\n",
        "    print(\"Waiting for event to be set...\")\n",
        "    event.wait()\n",
        "    print(\"Event is set, proceeding!\")\n",
        "\n",
        "def set_event():\n",
        "    time.sleep(1)\n",
        "    print(\"Setting event.\")\n",
        "    event.set()\n",
        "\n",
        "t1 = threading.Thread(target=wait_for_event)\n",
        "t2 = threading.Thread(target=set_event)\n",
        "\n",
        "t1.start()\n",
        "t2.start()\n",
        "t1.join()\n",
        "t2.join()"
      ],
      "metadata": {
        "colab": {
          "base_uri": "https://localhost:8080/"
        },
        "id": "J4fGyL22ExGb",
        "outputId": "41757544-9830-4e06-a145-cb60db5746b7"
      },
      "execution_count": 8,
      "outputs": [
        {
          "output_type": "stream",
          "name": "stdout",
          "text": [
            "Waiting for event to be set...\n",
            "Setting event.\n",
            "Event is set, proceeding!\n"
          ]
        }
      ]
    },
    {
      "cell_type": "markdown",
      "source": [
        "**Queue (queue.Queue)**\n",
        "\n",
        "A Queue provides a thread-safe way to store and share data.\n",
        "\n",
        "It's especially useful in producer-consumer scenarios, as it handles synchronization internally."
      ],
      "metadata": {
        "id": "XGNS_bq-Aa63"
      }
    },
    {
      "cell_type": "code",
      "source": [
        "from queue import Queue\n",
        "import threading\n",
        "\n",
        "queue = Queue()\n",
        "\n",
        "def producer():\n",
        "    for i in range(5):\n",
        "        queue.put(i)\n",
        "        print(\"Produced:\", i)\n",
        "\n",
        "def consumer():\n",
        "    while not queue.empty():\n",
        "        item = queue.get()\n",
        "        print(\"Consumed:\", item)\n",
        "        queue.task_done()\n",
        "\n",
        "t1 = threading.Thread(target=producer)\n",
        "t2 = threading.Thread(target=consumer)\n",
        "\n",
        "t1.start()\n",
        "t1.join()\n",
        "t2.start()\n",
        "t2.join()"
      ],
      "metadata": {
        "colab": {
          "base_uri": "https://localhost:8080/"
        },
        "id": "NglojQrlAKMS",
        "outputId": "248d8cb4-11a9-4d8b-e632-3580f955a7f4"
      },
      "execution_count": 9,
      "outputs": [
        {
          "output_type": "stream",
          "name": "stdout",
          "text": [
            "Produced: 0\n",
            "Produced: 1\n",
            "Produced: 2\n",
            "Produced: 3\n",
            "Produced: 4\n",
            "Consumed: 0\n",
            "Consumed: 1\n",
            "Consumed: 2\n",
            "Consumed: 3\n",
            "Consumed: 4\n"
          ]
        }
      ]
    },
    {
      "cell_type": "markdown",
      "source": [
        "**For Processes**\n",
        "\n",
        "\n",
        "---\n",
        "\n"
      ],
      "metadata": {
        "id": "iY-lYNs8AzGq"
      }
    },
    {
      "cell_type": "markdown",
      "source": [
        "**Queue (multiprocessing.Queue)**\n",
        "\n",
        "A Queue in multiprocessing is similar to a thread Queue, but it enables process-safe communication between processes."
      ],
      "metadata": {
        "id": "4HjymZi2FRx8"
      }
    },
    {
      "cell_type": "code",
      "source": [
        "# Example\n",
        "\n",
        "from multiprocessing import Queue, Process\n",
        "\n",
        "queue = Queue()\n",
        "\n",
        "def producer():\n",
        "    for i in range(5):\n",
        "        queue.put(i)\n",
        "        print(\"Produced:\", i)\n",
        "\n",
        "def consumer():\n",
        "    while not queue.empty():\n",
        "        item = queue.get()\n",
        "        print(\"Consumed:\", item)\n",
        "\n",
        "p1 = Process(target=producer)\n",
        "p2 = Process(target=consumer)\n",
        "\n",
        "p1.start()\n",
        "p1.join()\n",
        "p2.start()\n",
        "p2.join()"
      ],
      "metadata": {
        "colab": {
          "base_uri": "https://localhost:8080/"
        },
        "id": "2J_4JHF1FKzD",
        "outputId": "1020ab9c-612e-4049-e036-3b984201213a"
      },
      "execution_count": 10,
      "outputs": [
        {
          "output_type": "stream",
          "name": "stdout",
          "text": [
            "Produced: 0\n",
            "Produced: 1\n",
            "Produced: 2\n",
            "Produced: 3\n",
            "Produced: 4\n",
            "Consumed: 0\n",
            "Consumed: 1\n",
            "Consumed: 2\n",
            "Consumed: 3\n",
            "Consumed: 4\n"
          ]
        }
      ]
    },
    {
      "cell_type": "markdown",
      "source": [
        "**Pipe (multiprocessing.Pipe)**\n",
        "\n",
        "A Pipe allows for bidirectional communication between two processes. It returns a pair of connection objects, which each process can use to send or receive data."
      ],
      "metadata": {
        "id": "fuv54B0uFYQq"
      }
    },
    {
      "cell_type": "code",
      "source": [
        "# Example\n",
        "\n",
        "from multiprocessing import Pipe, Process\n",
        "\n",
        "parent_conn, child_conn = Pipe()\n",
        "\n",
        "def sender():\n",
        "    child_conn.send(\"Hello from child\")\n",
        "    child_conn.close()\n",
        "\n",
        "def receiver():\n",
        "    print(\"Received:\", parent_conn.recv())\n",
        "\n",
        "p1 = Process(target=sender)\n",
        "p2 = Process(target=receiver)\n",
        "\n",
        "p1.start()\n",
        "p2.start()\n",
        "p1.join()\n",
        "p2.join()"
      ],
      "metadata": {
        "colab": {
          "base_uri": "https://localhost:8080/"
        },
        "id": "qWOiA1pgFdMD",
        "outputId": "6e79f782-e27d-4216-d89e-3b44c1ce185e"
      },
      "execution_count": 11,
      "outputs": [
        {
          "output_type": "stream",
          "name": "stdout",
          "text": [
            "Received: Hello from child\n"
          ]
        }
      ]
    },
    {
      "cell_type": "markdown",
      "source": [
        "**Value and Array (multiprocessing.Value, multiprocessing.Array)**\n",
        "\n",
        "Value and Array are shared, mutable objects that provide synchronized access to shared data.\n",
        "\n",
        "Value holds a single shared value, while Array holds a list of values.\n"
      ],
      "metadata": {
        "id": "RyRlHazqFqyU"
      }
    },
    {
      "cell_type": "code",
      "source": [
        "# Example\n",
        "\n",
        "from multiprocessing import Value, Array, Process\n",
        "\n",
        "num = Value('i', 0)  # 'i' is for integer\n",
        "arr = Array('i', [1, 2, 3])\n",
        "\n",
        "def modify():\n",
        "    num.value = 42\n",
        "    for i in range(len(arr)):\n",
        "        arr[i] += 1\n",
        "\n",
        "p = Process(target=modify)\n",
        "p.start()\n",
        "p.join()\n",
        "\n",
        "print(\"Number:\", num.value)\n",
        "print(\"Array:\", arr[:])"
      ],
      "metadata": {
        "colab": {
          "base_uri": "https://localhost:8080/"
        },
        "id": "DJ1latmpFtuL",
        "outputId": "7b146e42-8d6a-432e-90c7-0a84bec5fca4"
      },
      "execution_count": 12,
      "outputs": [
        {
          "output_type": "stream",
          "name": "stdout",
          "text": [
            "Number: 42\n",
            "Array: [2, 3, 4]\n"
          ]
        }
      ]
    },
    {
      "cell_type": "markdown",
      "source": [
        "**Manager (multiprocessing.Manager)**\n",
        "\n",
        "A Manager provides a high-level interface for sharing complex data structures (like dictionaries, lists, etc.) between processes."
      ],
      "metadata": {
        "id": "8w_Xrx7NGMNE"
      }
    },
    {
      "cell_type": "code",
      "source": [
        "from multiprocessing import Manager, Process\n",
        "\n",
        "manager = Manager()\n",
        "shared_dict = manager.dict()\n",
        "shared_list = manager.list()\n",
        "\n",
        "def modify():\n",
        "    shared_dict['key'] = 'value'\n",
        "    shared_list.append(42)\n",
        "\n",
        "p = Process(target=modify)\n",
        "p.start()\n",
        "p.join()\n",
        "\n",
        "print(\"Shared dict:\", dict(shared_dict))\n",
        "print(\"Shared list:\", list(shared_list))"
      ],
      "metadata": {
        "colab": {
          "base_uri": "https://localhost:8080/"
        },
        "id": "Hjd4lNoWGE-z",
        "outputId": "a5115fca-469e-4e0f-b924-d972e2a32e42"
      },
      "execution_count": 13,
      "outputs": [
        {
          "output_type": "stream",
          "name": "stdout",
          "text": [
            "Shared dict: {'key': 'value'}\n",
            "Shared list: [42]\n"
          ]
        }
      ]
    },
    {
      "cell_type": "markdown",
      "source": [
        "**Lock, RLock, Semaphore, Event, Condition (from multiprocessing)**\n",
        "\n",
        "Similar to the threading module, multiprocessing provides these synchronization primitives specifically for inter-process synchronization."
      ],
      "metadata": {
        "id": "eGhMxX3WGP5z"
      }
    },
    {
      "cell_type": "markdown",
      "source": [
        "### **Question 6:  Discuss why it’s crucial to handle exceptions in concurrent programs and the techniques available for doing so.**"
      ],
      "metadata": {
        "id": "YYc8MZo7Gnhc"
      }
    },
    {
      "cell_type": "markdown",
      "source": [
        "## Solution :"
      ],
      "metadata": {
        "id": "M4DTUTZZGwCr"
      }
    },
    {
      "cell_type": "markdown",
      "source": [
        "Handling exceptions in concurrent programs is crucial because unhandled exceptions in one thread or process can affect the stability and functionality of the entire program."
      ],
      "metadata": {
        "id": "PmUkZoRBHQ-F"
      }
    },
    {
      "cell_type": "markdown",
      "source": [
        "Here are the primary reasons for handling exceptions in concurrent programming:"
      ],
      "metadata": {
        "id": "Glt6i7o-HQqb"
      }
    },
    {
      "cell_type": "markdown",
      "source": [
        "**Stability and Reliability:** An unhandled exception can cause a thread or process to terminate unexpectedly, leaving resources in an inconsistent state or causing data corruption.\n",
        "\n",
        "**Resource Management:** In concurrent programs, resources like locks, file handles, or network connections are often shared. If an exception is not handled, resources may not be properly released, leading to deadlocks, memory leaks, or other resource issues.\n",
        "\n",
        "**Debugging and Monitoring:** Exceptions provide insight into issues within concurrent code. If exceptions are handled appropriately, developers can log them for diagnosis without disrupting the application flow.\n",
        "\n",
        "**Graceful Shutdown**: Without handling exceptions, a program may terminate abruptly, making it difficult to clean up resources, log errors, or inform users."
      ],
      "metadata": {
        "id": "swXDSA5WHnus"
      }
    },
    {
      "cell_type": "markdown",
      "source": [
        "**Techniques for Handling Exceptions in Concurrent Programs**\n",
        "\n",
        "---\n",
        "\n"
      ],
      "metadata": {
        "id": "pXp7fUXjH543"
      }
    },
    {
      "cell_type": "markdown",
      "source": [
        "**Try-Except Blocks in Threads and Processes:**\n",
        "\n",
        "Wrapping critical code sections in try-except blocks ensures that exceptions are caught at the thread or process level.\n",
        "\n",
        "This allows logging of errors or cleanup actions before termination."
      ],
      "metadata": {
        "id": "lrMPudgVH_4D"
      }
    },
    {
      "cell_type": "code",
      "source": [
        "# Example\n",
        "import threading\n",
        "\n",
        "def task():\n",
        "    try:\n",
        "        # Simulate work that might raise an exception\n",
        "        result = 1 / 0\n",
        "    except Exception as e:\n",
        "        print(\"Exception in thread:\", e)\n",
        "\n",
        "thread = threading.Thread(target=task)\n",
        "thread.start()\n",
        "thread.join()\n"
      ],
      "metadata": {
        "colab": {
          "base_uri": "https://localhost:8080/"
        },
        "id": "6sLBuVvHGXmD",
        "outputId": "f30bbc7a-25e7-48c5-9205-275b17f90343"
      },
      "execution_count": 14,
      "outputs": [
        {
          "output_type": "stream",
          "name": "stdout",
          "text": [
            "Exception in thread: division by zero\n"
          ]
        }
      ]
    },
    {
      "cell_type": "markdown",
      "source": [
        "**Using a Wrapper Function:**\n",
        "\n",
        "To ensure that all threads or processes handle exceptions consistently, you can create a wrapper function that includes exception handling and pass it as the target function."
      ],
      "metadata": {
        "id": "pCLvk7g9ILxy"
      }
    },
    {
      "cell_type": "code",
      "source": [
        "# Example\n",
        "\n",
        "import threading\n",
        "\n",
        "def safe_task(task, *args):\n",
        "    try:\n",
        "        task(*args)\n",
        "    except Exception as e:\n",
        "        print(\"Handled exception:\", e)\n",
        "\n",
        "def task():\n",
        "    # This will raise an exception\n",
        "    result = 1 / 0\n",
        "\n",
        "thread = threading.Thread(target=safe_task, args=(task,))\n",
        "thread.start()\n",
        "thread.join()"
      ],
      "metadata": {
        "colab": {
          "base_uri": "https://localhost:8080/"
        },
        "id": "Hps3wfxDHIIk",
        "outputId": "17b726b4-7307-4c7a-d31c-32301e7ccd12"
      },
      "execution_count": 15,
      "outputs": [
        {
          "output_type": "stream",
          "name": "stdout",
          "text": [
            "Handled exception: division by zero\n"
          ]
        }
      ]
    },
    {
      "cell_type": "markdown",
      "source": [
        "**Queue-Based Error Handling:**\n",
        "\n",
        "For thread pools or producer-consumer setups, using a Queue to collect exceptions allows a centralized place to log and handle errors."
      ],
      "metadata": {
        "id": "SUikSw7-IeKs"
      }
    },
    {
      "cell_type": "code",
      "source": [
        "# Example\n",
        "\n",
        "from queue import Queue\n",
        "import threading\n",
        "\n",
        "error_queue = Queue()\n",
        "\n",
        "def task():\n",
        "    try:\n",
        "        result = 1 / 0\n",
        "    except Exception as e:\n",
        "        error_queue.put(e)\n",
        "\n",
        "threads = [threading.Thread(target=task) for _ in range(2)]\n",
        "for t in threads: t.start()\n",
        "for t in threads: t.join()\n",
        "\n",
        "while not error_queue.empty():\n",
        "    print(\"Exception caught:\", error_queue.get())"
      ],
      "metadata": {
        "colab": {
          "base_uri": "https://localhost:8080/"
        },
        "id": "19d_GKK5IXJZ",
        "outputId": "0336f627-4b3c-40c9-d1a1-d50516fcf678"
      },
      "execution_count": 16,
      "outputs": [
        {
          "output_type": "stream",
          "name": "stdout",
          "text": [
            "Exception caught: division by zero\n",
            "Exception caught: division by zero\n"
          ]
        }
      ]
    },
    {
      "cell_type": "markdown",
      "source": [
        "**Timeouts and Cancellation:**\n",
        "\n",
        "Setting timeouts or implementing cancellation mechanisms helps prevent \"hanging\" threads or processes.\n",
        "\n",
        "This can be particularly useful when using concurrent.futures or when you want a task to fail gracefully."
      ],
      "metadata": {
        "id": "28FZzEkzI84c"
      }
    },
    {
      "cell_type": "code",
      "source": [
        "# Example\n",
        "\n",
        "from concurrent.futures import ThreadPoolExecutor, TimeoutError\n",
        "\n",
        "def task():\n",
        "    import time\n",
        "    time.sleep(2)\n",
        "    return \"Completed\"\n",
        "\n",
        "with ThreadPoolExecutor() as executor:\n",
        "    future = executor.submit(task)\n",
        "    try:\n",
        "        result = future.result(timeout=1)  # Set a timeout\n",
        "    except TimeoutError:\n",
        "        print(\"Task timed out\")"
      ],
      "metadata": {
        "colab": {
          "base_uri": "https://localhost:8080/"
        },
        "id": "kIC-Rca6Ij7z",
        "outputId": "329cc7d5-6210-49d8-db87-5fae80b8e47e"
      },
      "execution_count": 17,
      "outputs": [
        {
          "output_type": "stream",
          "name": "stdout",
          "text": [
            "Task timed out\n"
          ]
        }
      ]
    },
    {
      "cell_type": "markdown",
      "source": [
        "**Using Finalizers or finally Blocks:**\n",
        "\n",
        "Always use finally blocks or context managers to ensure resources are released, even if an exception occurs.\n",
        "\n",
        "This is especially important for releasing locks and closing files."
      ],
      "metadata": {
        "id": "hLLXnIdUJemt"
      }
    },
    {
      "cell_type": "code",
      "source": [
        "# Example\n",
        "\n",
        "import threading\n",
        "\n",
        "lock = threading.Lock()\n",
        "\n",
        "def task():\n",
        "    try:\n",
        "        with lock:\n",
        "            result = 1 / 0  # Simulate an exception\n",
        "    finally:\n",
        "        print(\"Lock released or cleanup done\")\n",
        "\n",
        "thread = threading.Thread(target=task)\n",
        "thread.start()\n",
        "thread.join()"
      ],
      "metadata": {
        "colab": {
          "base_uri": "https://localhost:8080/"
        },
        "id": "zQh2qXu0JQDE",
        "outputId": "d08ee5f2-2cd5-41a6-d37f-83ee13080395"
      },
      "execution_count": 18,
      "outputs": [
        {
          "output_type": "stream",
          "name": "stderr",
          "text": [
            "Exception in thread Thread-34 (task):\n",
            "Traceback (most recent call last):\n",
            "  File \"/usr/lib/python3.10/threading.py\", line 1016, in _bootstrap_inner\n",
            "    self.run()\n",
            "  File \"/usr/lib/python3.10/threading.py\", line 953, in run\n",
            "    self._target(*self._args, **self._kwargs)\n",
            "  File \"<ipython-input-18-3d0ec0d04fe5>\", line 10, in task\n",
            "ZeroDivisionError: division by zero\n"
          ]
        },
        {
          "output_type": "stream",
          "name": "stdout",
          "text": [
            "Lock released or cleanup done\n"
          ]
        }
      ]
    },
    {
      "cell_type": "markdown",
      "source": [
        "**Exception Handling in Processes:**\n",
        "\n",
        "Exceptions in multiprocessing.Process do not propagate to the parent process.\n",
        "\n",
        "Using a multiprocessing.Queue or Pipe to send exceptions back to the main process allows centralized error handling."
      ],
      "metadata": {
        "id": "gJzSAqUCJ8zl"
      }
    },
    {
      "cell_type": "code",
      "source": [
        "from multiprocessing import Process, Queue\n",
        "\n",
        "def task(error_queue):\n",
        "    try:\n",
        "        result = 1 / 0  # This will raise an exception\n",
        "    except Exception as e:\n",
        "        error_queue.put(e)\n",
        "\n",
        "error_queue = Queue()\n",
        "process = Process(target=task, args=(error_queue,))\n",
        "process.start()\n",
        "process.join()\n",
        "\n",
        "while not error_queue.empty():\n",
        "    print(\"Exception caught:\", error_queue.get())"
      ],
      "metadata": {
        "colab": {
          "base_uri": "https://localhost:8080/"
        },
        "id": "_G8LEeB7Jwft",
        "outputId": "71cdd9b3-2a2d-43d5-8c18-aa7baafeabeb"
      },
      "execution_count": 19,
      "outputs": [
        {
          "output_type": "stream",
          "name": "stdout",
          "text": [
            "Exception caught: division by zero\n"
          ]
        }
      ]
    },
    {
      "cell_type": "markdown",
      "source": [
        "### **Question 7: Create a program that uses a thread pool to calculate the factorial of numbers from 1 to 10 concurrently. Use concurrent.futures.ThreadPoolExecutor to manage the threads.**"
      ],
      "metadata": {
        "id": "COLPvU7BKNSN"
      }
    },
    {
      "cell_type": "markdown",
      "source": [
        "## Solution :"
      ],
      "metadata": {
        "id": "fjSEhHgTKaL0"
      }
    },
    {
      "cell_type": "code",
      "source": [
        "from concurrent.futures import ThreadPoolExecutor\n",
        "import math\n",
        "\n",
        "def factorial(n):\n",
        "    \"\"\"\n",
        "    Calculate the factorial of a given number.\n",
        "\n",
        "    Args:\n",
        "        n (int): The number to calculate the factorial for.\n",
        "\n",
        "    Returns:\n",
        "        int: The factorial of the number n.\n",
        "    \"\"\"\n",
        "    result = math.factorial(n)\n",
        "    print(f\"Factorial of {n} is {result}\")\n",
        "    return result\n",
        "\n",
        "def main():\n",
        "    \"\"\"\n",
        "    Main function to calculate factorials for numbers from 1 to 10\n",
        "    concurrently using a thread pool.\n",
        "    \"\"\"\n",
        "    numbers = range(1, 11)  # Numbers from 1 to 10\n",
        "\n",
        "    # Create a thread pool executor to manage concurrent threads\n",
        "    with ThreadPoolExecutor() as executor:\n",
        "        # Calculate factorials concurrently\n",
        "        results = executor.map(factorial, numbers)\n",
        "\n",
        "    # Collect and print results as a list\n",
        "    results = list(results)\n",
        "    print(\"All factorials:\", results)\n",
        "\n",
        "if __name__ == \"__main__\":\n",
        "    main()"
      ],
      "metadata": {
        "id": "iBfg7gMQKFT0",
        "colab": {
          "base_uri": "https://localhost:8080/"
        },
        "outputId": "f76135ac-6395-4909-cadc-96e700f97dff"
      },
      "execution_count": 20,
      "outputs": [
        {
          "output_type": "stream",
          "name": "stdout",
          "text": [
            "Factorial of 1 is 1\n",
            "Factorial of 2 is 2\n",
            "Factorial of 3 is 6\n",
            "Factorial of 4 is 24\n",
            "Factorial of 5 is 120\n",
            "Factorial of 6 is 720\n",
            "Factorial of 7 is 5040\n",
            "Factorial of 8 is 40320\n",
            "Factorial of 9 is 362880\n",
            "Factorial of 10 is 3628800\n",
            "All factorials: [1, 2, 6, 24, 120, 720, 5040, 40320, 362880, 3628800]\n"
          ]
        }
      ]
    },
    {
      "cell_type": "markdown",
      "source": [
        "### **Question 8: Create a Python program that uses multiprocessing.Pool to compute the square of numbers from 1 to 10 in parallel. Measure the time taken to perform this computation using a pool of different sizes (e.g., 2, 4, 8 processes).**"
      ],
      "metadata": {
        "id": "EiGNdK1VLDI2"
      }
    },
    {
      "cell_type": "markdown",
      "source": [
        "## Solution :"
      ],
      "metadata": {
        "id": "0EgWk5ZTLTPq"
      }
    },
    {
      "cell_type": "code",
      "source": [
        "import multiprocessing\n",
        "import time\n",
        "\n",
        "def square(n):\n",
        "    \"\"\"\n",
        "    Compute the square of a number.\n",
        "\n",
        "    Args:\n",
        "        n (int): The number to be squared.\n",
        "\n",
        "    Returns:\n",
        "        int: The square of the number n.\n",
        "    \"\"\"\n",
        "    return n * n\n",
        "\n",
        "def main():\n",
        "    numbers = range(1, 11)  # Numbers from 1 to 10\n",
        "\n",
        "    pool_sizes = [2, 4, 8]  # Different pool sizes to test\n",
        "    for pool_size in pool_sizes:\n",
        "        # Create a multiprocessing Pool with the specified number of processes\n",
        "        with multiprocessing.Pool(processes=pool_size) as pool:\n",
        "            start_time = time.time()  # Start time measurement\n",
        "            results = pool.map(square, numbers)  # Compute squares in parallel\n",
        "            end_time = time.time()  # End time measurement\n",
        "\n",
        "        # Print the results and the time taken\n",
        "        print(f\"Pool Size: {pool_size}, Results: {results}, Time Taken: {end_time - start_time:.4f} seconds\")\n",
        "\n",
        "if __name__ == \"__main__\":\n",
        "    main()"
      ],
      "metadata": {
        "colab": {
          "base_uri": "https://localhost:8080/"
        },
        "id": "tP9ILNwAK86-",
        "outputId": "be5e6241-ad90-42b3-fc4f-a752556fa9be"
      },
      "execution_count": 21,
      "outputs": [
        {
          "output_type": "stream",
          "name": "stdout",
          "text": [
            "Pool Size: 2, Results: [1, 4, 9, 16, 25, 36, 49, 64, 81, 100], Time Taken: 0.0121 seconds\n",
            "Pool Size: 4, Results: [1, 4, 9, 16, 25, 36, 49, 64, 81, 100], Time Taken: 0.0023 seconds\n",
            "Pool Size: 8, Results: [1, 4, 9, 16, 25, 36, 49, 64, 81, 100], Time Taken: 0.0033 seconds\n"
          ]
        }
      ]
    },
    {
      "cell_type": "markdown",
      "source": [
        "\n",
        "\n",
        "---\n",
        "\n"
      ],
      "metadata": {
        "id": "7LEADvVML-gM"
      }
    }
  ]
}